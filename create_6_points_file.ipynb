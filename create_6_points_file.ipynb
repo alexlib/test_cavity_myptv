{
 "cells": [
  {
   "cell_type": "code",
   "execution_count": 1,
   "metadata": {},
   "outputs": [],
   "source": [
    "## Installation requirements:\n",
    "\n",
    "# !conda create -n myptv -y\n",
    "# !conda activate myptv\n",
    "# !pip install git+https://github.com/alexlib/myptv\n",
    "# !pip install ipympl"
   ]
  },
  {
   "cell_type": "code",
   "execution_count": 2,
   "metadata": {},
   "outputs": [],
   "source": [
    "from pylab import * # recommended only for short interactive sessions\n",
    "%matplotlib tk"
   ]
  },
  {
   "cell_type": "code",
   "execution_count": 3,
   "metadata": {},
   "outputs": [],
   "source": [
    "# plot the target file in 3D\n",
    "fig = figure(figsize=(10,10))\n",
    "ax = axes(projection='3d')\n",
    "targets = loadtxt('./example/Calibration/target_on_a_side.txt')\n",
    "ax.plot(targets[:,1], targets[:,3], targets[:,2], 'ro')\n",
    "for row in targets:\n",
    "    ax.text(row[1], row[3], row[2],str(int(row[0])) );"
   ]
  },
  {
   "cell_type": "code",
   "execution_count": 4,
   "metadata": {},
   "outputs": [],
   "source": [
    "# if you need to create target file that is according to MyPTV convention, no ID\n",
    "np.savetxt('./example/Calibration/target_on_a_side',targets[:,1:],fmt='%4.3f %4.3f %4.3f')\n"
   ]
  },
  {
   "cell_type": "code",
   "execution_count": 41,
   "metadata": {},
   "outputs": [],
   "source": [
    "# looking at the both plots, decide which points you want to pick\n",
    "# type here the order of the points you want to click \n",
    "\n",
    "points = [5,73,3,72,38,4]"
   ]
  },
  {
   "cell_type": "code",
   "execution_count": 5,
   "metadata": {},
   "outputs": [],
   "source": [
    "fig,ax = subplots(figsize=(10,10))\n",
    "ax.imshow(imread('example/Calibration/cam1.tif'))\n",
    "# note that on cam1 we do not see the bottom rows\n",
    "# text = axcounter = 0.text(0, 0, \" Click \", va=\"bottom\", ha=\"left\")\n",
    "clicks = []\n",
    "\n",
    "def onclick(event):\n",
    "    counter = 0\n",
    "    # tx = 'button=%d, x=%d, y=%d, xdata=%f, ydata=%f' % (event.button, event.x, event.y, event.xdata, event.ydata)\n",
    "    # text.set_text(tx)\n",
    "    print('%s click: button=%d, x=%d, y=%d, xdata=%f, ydata=%f' %\n",
    "          ('double' if event.dblclick else 'single', event.button,\n",
    "           event.x, event.y, event.xdata, event.ydata))\n",
    "    ax.text(event.x, event.y, str(points[counter]),bbox=dict(fill=False, edgecolor='red', linewidth=2))\n",
    "    clicks.append([event.xdata, event.ydata, *targets[points[counter]-1,1:]])\n",
    "    counter += 1\n",
    "    # ax.text(event.x, event.y, )\n",
    "\n",
    "cid = fig.canvas.mpl_connect('button_press_event', onclick)\n"
   ]
  },
  {
   "cell_type": "code",
   "execution_count": 57,
   "metadata": {},
   "outputs": [],
   "source": [
    "\n",
    "savetxt('tmp.txt',array(clicks))\n"
   ]
  }
 ],
 "metadata": {
  "interpreter": {
   "hash": "fbc45e318997727c983b0f99c79f6104b0e8c67be24f9c29083ccdf8ef91b86e"
  },
  "kernelspec": {
   "display_name": "Python 3.9.12 ('myptv')",
   "language": "python",
   "name": "python3"
  },
  "language_info": {
   "codemirror_mode": {
    "name": "ipython",
    "version": 3
   },
   "file_extension": ".py",
   "mimetype": "text/x-python",
   "name": "python",
   "nbconvert_exporter": "python",
   "pygments_lexer": "ipython3",
   "version": "3.9.12"
  },
  "orig_nbformat": 4
 },
 "nbformat": 4,
 "nbformat_minor": 2
}
