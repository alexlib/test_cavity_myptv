{
 "cells": [
  {
   "cell_type": "code",
   "execution_count": 1,
   "metadata": {},
   "outputs": [],
   "source": [
    "## Installation requirements:\n",
    "\n",
    "# !conda create -n myptv -y\n",
    "# !conda activate myptv\n",
    "# !pip install git+https://github.com/alexlib/myptv\n",
    "# !pip install ipympl"
   ]
  },
  {
   "cell_type": "code",
   "execution_count": 2,
   "metadata": {},
   "outputs": [],
   "source": [
    "from pylab import * # recommended only for short interactive sessions\n",
    "%matplotlib tk"
   ]
  },
  {
   "cell_type": "code",
   "execution_count": 3,
   "metadata": {},
   "outputs": [],
   "source": [
    "# plot the target file in 3D\n",
    "fig = figure(figsize=(10,10))\n",
    "ax = axes(projection='3d')\n",
    "targets = loadtxt('./cal/target_on_a_side.txt')\n",
    "ax.plot(targets[:,1], targets[:,3], targets[:,2], 'ro')\n",
    "for row in targets:\n",
    "    ax.text(row[1], row[3], row[2],str(int(row[0])) );"
   ]
  },
  {
   "cell_type": "code",
   "execution_count": 41,
   "metadata": {},
   "outputs": [],
   "source": [
    "# looking at the both plots, decide which points you want to pick\n",
    "# type here the order of the points you want to click \n",
    "\n",
    "points = [5,73,3,72,38,4]"
   ]
  },
  {
   "cell_type": "code",
   "execution_count": 56,
   "metadata": {},
   "outputs": [
    {
     "name": "stdout",
     "output_type": "stream",
     "text": [
      "single click: button=1, x=720, y=585, xdata=982.209677, ydata=332.605548\n",
      "single click: button=1, x=264, y=582, xdata=229.074194, ydata=337.560387\n",
      "single click: button=1, x=736, y=421, xdata=1008.635484, ydata=603.470065\n",
      "single click: button=1, x=274, y=414, xdata=245.590323, ydata=615.031355\n",
      "single click: button=1, x=507, y=417, xdata=630.416129, ydata=610.076516\n",
      "single click: button=1, x=696, y=520, xdata=942.570968, ydata=439.960387\n"
     ]
    }
   ],
   "source": [
    "fig,ax = subplots(figsize=(10,10))\n",
    "ax.imshow(imread('cal/cam1.tif'))\n",
    "# note that on cam1 we do not see the bottom rows\n",
    "# text = axcounter = 0.text(0, 0, \" Click \", va=\"bottom\", ha=\"left\")\n",
    "clicks = []\n",
    "\n",
    "def onclick(event):\n",
    "    counter = 0\n",
    "    # tx = 'button=%d, x=%d, y=%d, xdata=%f, ydata=%f' % (event.button, event.x, event.y, event.xdata, event.ydata)\n",
    "    # text.set_text(tx)\n",
    "    print('%s click: button=%d, x=%d, y=%d, xdata=%f, ydata=%f' %\n",
    "          ('double' if event.dblclick else 'single', event.button,\n",
    "           event.x, event.y, event.xdata, event.ydata))\n",
    "    ax.text(event.x, event.y, str(points[counter]),bbox=dict(fill=False, edgecolor='red', linewidth=2))\n",
    "    clicks.append([event.xdata, event.ydata, *targets[points[counter]-1,1:]])\n",
    "    counter += 1\n",
    "    # ax.text(event.x, event.y, )\n",
    "\n",
    "cid = fig.canvas.mpl_connect('button_press_event', onclick)\n"
   ]
  },
  {
   "cell_type": "code",
   "execution_count": 57,
   "metadata": {},
   "outputs": [],
   "source": [
    "\n",
    "savetxt('tmp.txt',array(clicks))\n"
   ]
  }
 ],
 "metadata": {
  "interpreter": {
   "hash": "fbc45e318997727c983b0f99c79f6104b0e8c67be24f9c29083ccdf8ef91b86e"
  },
  "kernelspec": {
   "display_name": "Python 3.9.12 ('myptv')",
   "language": "python",
   "name": "python3"
  },
  "language_info": {
   "codemirror_mode": {
    "name": "ipython",
    "version": 3
   },
   "file_extension": ".py",
   "mimetype": "text/x-python",
   "name": "python",
   "nbconvert_exporter": "python",
   "pygments_lexer": "ipython3",
   "version": "3.9.12"
  },
  "orig_nbformat": 4
 },
 "nbformat": 4,
 "nbformat_minor": 2
}
