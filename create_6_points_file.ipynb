{
 "cells": [
  {
   "cell_type": "code",
   "execution_count": 1,
   "metadata": {},
   "outputs": [],
   "source": [
    "## Installation requirements:\n",
    "\n",
    "# !conda create -n myptv -y\n",
    "# !conda activate myptv\n",
    "# !pip install git+https://github.com/alexlib/myptv\n",
    "# !pip install ipympl"
   ]
  },
  {
   "cell_type": "code",
   "execution_count": 4,
   "metadata": {},
   "outputs": [],
   "source": [
    "from pylab import * # recommended only for short interactive sessions\n",
    "%matplotlib tk"
   ]
  },
  {
   "cell_type": "code",
   "execution_count": 5,
   "metadata": {},
   "outputs": [],
   "source": [
    "# plot the target file in 3D\n",
    "# zoom in with the Right button rolling\n",
    "# rotate with the left button\n",
    "# pan with the middle button\n",
    "\n",
    "fig = plt.figure(figsize=(10,10))\n",
    "# ax = axes(projection='3d')\n",
    "ax = fig.add_subplot(1, 1, 1, projection='3d')\n",
    "targets = loadtxt('./example/Calibration/target_on_a_side')\n",
    "ax.plot(targets[:,0], targets[:,2], targets[:,1], 'ro')\n",
    "for counter, row in enumerate(targets):\n",
    "    ax.text(row[0], row[2], row[1], str(counter) );\n"
   ]
  },
  {
   "cell_type": "code",
   "execution_count": 8,
   "metadata": {},
   "outputs": [],
   "source": [
    "# looking at the both plots, decide which points you want to pick\n",
    "# type here the order of the points you want to click \n",
    "\n",
    "# see also the PNG file saved in /example/\n",
    "points = [72, 9, 0, 70, 7, 71]"
   ]
  },
  {
   "cell_type": "code",
   "execution_count": 11,
   "metadata": {},
   "outputs": [
    {
     "name": "stdout",
     "output_type": "stream",
     "text": [
      "single click: button=1, x=388, y=602, xdata=251.681507, ydata=298.641190\n",
      "counter = 0\n",
      "single click: button=1, x=896, y=603, xdata=986.800143, ydata=297.194106\n",
      "counter = 1\n",
      "single click: button=1, x=901, y=231, xdata=994.035562, ydata=835.509327\n",
      "counter = 2\n",
      "single click: button=1, x=396, y=240, xdata=263.258179, ydata=822.485572\n",
      "counter = 3\n",
      "single click: button=1, x=875, y=427, xdata=956.411380, ydata=551.880877\n",
      "counter = 4\n",
      "single click: button=1, x=416, y=428, xdata=292.199857, ydata=550.433793\n",
      "counter = 5\n"
     ]
    }
   ],
   "source": [
    "import matplotlib.text as mpl_text\n",
    "\n",
    "im = imread('./example/Calibration/cam4.tif')\n",
    "fig,ax = subplots(figsize = (im.shape[1]/300, im.shape[0]/300))\n",
    "ax.imshow(im, cmap='gray')\n",
    "ax.axis('off')\n",
    "clicks = []\n",
    "\n",
    "\n",
    "def onclick(event):\n",
    "\n",
    "    # tx = 'button=%d, x=%d, y=%d, xdata=%f, ydata=%f' % (event.button, event.x, event.y, event.xdata, event.ydata)\n",
    "    # text.set_text(tx)\n",
    "    counter = len(clicks)\n",
    "    print('%s click: button=%d, x=%d, y=%d, xdata=%f, ydata=%f' %\n",
    "          ('double' if event.dblclick else 'single', event.button,\n",
    "           event.x, event.y, event.xdata, event.ydata))\n",
    "    ax.text(event.xdata, event.ydata, str(points[counter]),fontsize=20,color='w')\n",
    "    plt.draw_if_interactive()    \n",
    "    clicks.append([event.xdata, event.ydata, *targets[points[counter]-1,:]])\n",
    "    print(f'counter = {counter}')\n",
    "\n",
    "    \n",
    "\n",
    "cid = fig.canvas.mpl_connect('button_press_event', onclick)\n"
   ]
  },
  {
   "cell_type": "code",
   "execution_count": 13,
   "metadata": {},
   "outputs": [],
   "source": [
    "# replace tmp.txt with the file name from the YAML\n",
    "\n",
    "savetxt('tmp.txt',array(clicks),fmt='%4.3f')\n"
   ]
  }
 ],
 "metadata": {
  "interpreter": {
   "hash": "fbc45e318997727c983b0f99c79f6104b0e8c67be24f9c29083ccdf8ef91b86e"
  },
  "kernelspec": {
   "display_name": "Python 3.9.12 ('myptv')",
   "language": "python",
   "name": "python3"
  },
  "language_info": {
   "codemirror_mode": {
    "name": "ipython",
    "version": 3
   },
   "file_extension": ".py",
   "mimetype": "text/x-python",
   "name": "python",
   "nbconvert_exporter": "python",
   "pygments_lexer": "ipython3",
   "version": "3.9.12"
  },
  "orig_nbformat": 4
 },
 "nbformat": 4,
 "nbformat_minor": 2
}
